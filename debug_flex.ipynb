{
 "cells": [
  {
   "cell_type": "code",
   "execution_count": 1,
   "metadata": {},
   "outputs": [],
   "source": [
    "# original library\n",
    "from flex_tools import *\n",
    "\n",
    "import numpy as np\n",
    "import numpy.linalg as la\n",
    "import pandas as pd\n",
    "\n",
    "import matplotlib.pyplot as plt\n",
    "from mpl_toolkits.mplot3d import axes3d, Axes3D\n",
    "import seaborn as sns\n",
    "\n",
    "import gc\n",
    "import sys\n",
    "import time\n",
    "from tqdm import tqdm\n",
    "import mpi4py\n",
    "\n",
    "from typing import Union, Optional, Callable\n",
    "from dataclasses import dataclass\n",
    "from IPython.display import display"
   ]
  },
  {
   "cell_type": "code",
   "execution_count": 2,
   "metadata": {},
   "outputs": [],
   "source": [
    "# FLEX_pipeline は、flextools の中にあるものを使用してもよいが、mu の探索範囲や mix_rate を変化させるなどのカスタマイズをすると効率的な計算が可能。\n",
    "def FLEX_pipeline(ENERGY, ENERGY_DIAG, U_charge, U_spin, mu_init, pm, mix_rate, N_flexiter=1000, tol_flex=1e-3, mask=None):\n",
    "    mu = mu_init\n",
    "    SIGMA_tmp = None\n",
    "    if mask is not None:\n",
    "        U_charge = mask.apply_mask(U_charge)\n",
    "        U_spin = mask.apply_mask(U_spin)\n",
    "    for i in range(N_flexiter):\n",
    "        G = calc_Green(SIGMA_tmp, ENERGY, mu, *pm.calc_Green())\n",
    "        G_tau_r = from_iwn_k_to_tau_r(G)\n",
    "        CHI0_tau_r = calc_chi0_tau_r(G_tau_r)\n",
    "        if mask is not None:\n",
    "            CHI0_tau_r = mask.apply_mask(CHI0_tau_r)\n",
    "        CHI0, CHI_charge, CHI_spin = \\\n",
    "            calc_Susceptibilities(CHI0_tau_r, U_charge, U_spin, *pm.calc_Susceptibilities())\n",
    "        V_Sigma = calc_V_effective(U_charge, U_spin, CHI0, CHI_charge, CHI_spin)\n",
    "        V_Sigma_tau_r = from_iwn_k_to_tau_r(V_Sigma)\n",
    "        if mask is not None:\n",
    "            V_Sigma_tau_r = mask.restore(V_Sigma_tau_r)\n",
    "        SIGMA = calc_Self_Energy(V_Sigma_tau_r, G_tau_r, *pm.calc_Self_Energy())\n",
    "        # 収束の判定\n",
    "        err = eval_Self_Energy_err(SIGMA, SIGMA_tmp)\n",
    "        if err < tol_flex:\n",
    "            SIGMA = mix_Self_Energy(SIGMA, SIGMA_tmp, 0.5)\n",
    "            mu = calc_mu(SIGMA, ENERGY, ENERGY_DIAG, *pm.calc_mu(), mu_init=mu)\n",
    "            G = calc_Green(SIGMA, ENERGY, mu, *pm.calc_Green())\n",
    "            return CHI0, CHI_charge, CHI_spin, SIGMA, mu, G\n",
    "        else:\n",
    "            print('err={:.4g}'.format(err))\n",
    "            SIGMA_tmp = mix_Self_Energy(SIGMA, SIGMA_tmp, mix_rate)\n",
    "            if i < 2/mix_rate:\n",
    "                mu = calc_mu(SIGMA_tmp, ENERGY, ENERGY_DIAG, *pm.calc_mu(), search_min=mu-1, search_max=mu+1, solver='brent')\n",
    "            else:\n",
    "                try:\n",
    "                    mu = calc_mu(SIGMA_tmp, ENERGY, ENERGY_DIAG, *pm.calc_mu(), mu_init=mu)\n",
    "                except:\n",
    "                    mu = calc_mu(SIGMA_tmp, ENERGY, ENERGY_DIAG, *pm.calc_mu(), search_min=mu-1, search_max=mu+1, solver='brent')\n",
    "    print('Waring: Self Energy is not converge!  err={:.4g}'.format(err))\n",
    "    G = calc_Green(SIGMA_tmp, ENERGY, mu, *pm.calc_Green())\n",
    "    return CHI0, CHI_charge, CHI_spin, SIGMA, mu, G"
   ]
  },
  {
   "cell_type": "markdown",
   "metadata": {},
   "source": [
    "### 2次元2サイト2軌道  ( 2層系, U=4 )"
   ]
  },
  {
   "cell_type": "code",
   "execution_count": 3,
   "metadata": {},
   "outputs": [
    {
     "data": {
      "text/html": [
       "<div>\n",
       "<style scoped>\n",
       "    .dataframe tbody tr th:only-of-type {\n",
       "        vertical-align: middle;\n",
       "    }\n",
       "\n",
       "    .dataframe tbody tr th {\n",
       "        vertical-align: top;\n",
       "    }\n",
       "\n",
       "    .dataframe thead th {\n",
       "        text-align: right;\n",
       "    }\n",
       "</style>\n",
       "<table border=\"1\" class=\"dataframe\">\n",
       "  <thead>\n",
       "    <tr style=\"text-align: right;\">\n",
       "      <th></th>\n",
       "      <th>x</th>\n",
       "      <th>y</th>\n",
       "      <th>z</th>\n",
       "      <th>hop</th>\n",
       "    </tr>\n",
       "  </thead>\n",
       "  <tbody>\n",
       "    <tr>\n",
       "      <th>0</th>\n",
       "      <td>0.0</td>\n",
       "      <td>0.0</td>\n",
       "      <td>0.0</td>\n",
       "      <td>0.0</td>\n",
       "    </tr>\n",
       "    <tr>\n",
       "      <th>1</th>\n",
       "      <td>1.0</td>\n",
       "      <td>0.0</td>\n",
       "      <td>0.0</td>\n",
       "      <td>1.0</td>\n",
       "    </tr>\n",
       "    <tr>\n",
       "      <th>2</th>\n",
       "      <td>-1.0</td>\n",
       "      <td>0.0</td>\n",
       "      <td>0.0</td>\n",
       "      <td>1.0</td>\n",
       "    </tr>\n",
       "    <tr>\n",
       "      <th>3</th>\n",
       "      <td>0.0</td>\n",
       "      <td>1.0</td>\n",
       "      <td>0.0</td>\n",
       "      <td>1.0</td>\n",
       "    </tr>\n",
       "    <tr>\n",
       "      <th>4</th>\n",
       "      <td>0.0</td>\n",
       "      <td>-1.0</td>\n",
       "      <td>0.0</td>\n",
       "      <td>1.0</td>\n",
       "    </tr>\n",
       "    <tr>\n",
       "      <th>5</th>\n",
       "      <td>0.0</td>\n",
       "      <td>0.0</td>\n",
       "      <td>0.0</td>\n",
       "      <td>2.0</td>\n",
       "    </tr>\n",
       "    <tr>\n",
       "      <th>6</th>\n",
       "      <td>1.0</td>\n",
       "      <td>0.0</td>\n",
       "      <td>0.0</td>\n",
       "      <td>0.0</td>\n",
       "    </tr>\n",
       "    <tr>\n",
       "      <th>7</th>\n",
       "      <td>-1.0</td>\n",
       "      <td>0.0</td>\n",
       "      <td>0.0</td>\n",
       "      <td>0.0</td>\n",
       "    </tr>\n",
       "    <tr>\n",
       "      <th>8</th>\n",
       "      <td>0.0</td>\n",
       "      <td>1.0</td>\n",
       "      <td>0.0</td>\n",
       "      <td>0.0</td>\n",
       "    </tr>\n",
       "    <tr>\n",
       "      <th>9</th>\n",
       "      <td>0.0</td>\n",
       "      <td>-1.0</td>\n",
       "      <td>0.0</td>\n",
       "      <td>0.0</td>\n",
       "    </tr>\n",
       "    <tr>\n",
       "      <th>10</th>\n",
       "      <td>0.0</td>\n",
       "      <td>0.0</td>\n",
       "      <td>0.0</td>\n",
       "      <td>2.0</td>\n",
       "    </tr>\n",
       "    <tr>\n",
       "      <th>11</th>\n",
       "      <td>1.0</td>\n",
       "      <td>0.0</td>\n",
       "      <td>0.0</td>\n",
       "      <td>0.0</td>\n",
       "    </tr>\n",
       "    <tr>\n",
       "      <th>12</th>\n",
       "      <td>-1.0</td>\n",
       "      <td>0.0</td>\n",
       "      <td>0.0</td>\n",
       "      <td>0.0</td>\n",
       "    </tr>\n",
       "    <tr>\n",
       "      <th>13</th>\n",
       "      <td>0.0</td>\n",
       "      <td>1.0</td>\n",
       "      <td>0.0</td>\n",
       "      <td>0.0</td>\n",
       "    </tr>\n",
       "    <tr>\n",
       "      <th>14</th>\n",
       "      <td>0.0</td>\n",
       "      <td>-1.0</td>\n",
       "      <td>0.0</td>\n",
       "      <td>0.0</td>\n",
       "    </tr>\n",
       "    <tr>\n",
       "      <th>15</th>\n",
       "      <td>0.0</td>\n",
       "      <td>0.0</td>\n",
       "      <td>0.0</td>\n",
       "      <td>0.0</td>\n",
       "    </tr>\n",
       "    <tr>\n",
       "      <th>16</th>\n",
       "      <td>1.0</td>\n",
       "      <td>0.0</td>\n",
       "      <td>0.0</td>\n",
       "      <td>1.0</td>\n",
       "    </tr>\n",
       "    <tr>\n",
       "      <th>17</th>\n",
       "      <td>-1.0</td>\n",
       "      <td>0.0</td>\n",
       "      <td>0.0</td>\n",
       "      <td>1.0</td>\n",
       "    </tr>\n",
       "    <tr>\n",
       "      <th>18</th>\n",
       "      <td>0.0</td>\n",
       "      <td>1.0</td>\n",
       "      <td>0.0</td>\n",
       "      <td>1.0</td>\n",
       "    </tr>\n",
       "    <tr>\n",
       "      <th>19</th>\n",
       "      <td>0.0</td>\n",
       "      <td>-1.0</td>\n",
       "      <td>0.0</td>\n",
       "      <td>1.0</td>\n",
       "    </tr>\n",
       "  </tbody>\n",
       "</table>\n",
       "</div>"
      ],
      "text/plain": [
       "      x    y    z  hop\n",
       "0   0.0  0.0  0.0  0.0\n",
       "1   1.0  0.0  0.0  1.0\n",
       "2  -1.0  0.0  0.0  1.0\n",
       "3   0.0  1.0  0.0  1.0\n",
       "4   0.0 -1.0  0.0  1.0\n",
       "5   0.0  0.0  0.0  2.0\n",
       "6   1.0  0.0  0.0  0.0\n",
       "7  -1.0  0.0  0.0  0.0\n",
       "8   0.0  1.0  0.0  0.0\n",
       "9   0.0 -1.0  0.0  0.0\n",
       "10  0.0  0.0  0.0  2.0\n",
       "11  1.0  0.0  0.0  0.0\n",
       "12 -1.0  0.0  0.0  0.0\n",
       "13  0.0  1.0  0.0  0.0\n",
       "14  0.0 -1.0  0.0  0.0\n",
       "15  0.0  0.0  0.0  0.0\n",
       "16  1.0  0.0  0.0  1.0\n",
       "17 -1.0  0.0  0.0  1.0\n",
       "18  0.0  1.0  0.0  1.0\n",
       "19  0.0 -1.0  0.0  1.0"
      ]
     },
     "metadata": {},
     "output_type": "display_data"
    }
   ],
   "source": [
    "Nqx = 16\n",
    "Nqy = 16\n",
    "Nqz = 1\n",
    "Nm = 256\n",
    "Nrvec = 5\n",
    "\n",
    "Nsite = 2\n",
    "Norbit_each_site = (1,1)\n",
    "Norbit = 2\n",
    "\n",
    "hopping_info_file = 'hop.dat'\n",
    "hopping_df = pd.read_csv(hopping_info_file, sep='\\s+', names=['x', 'y', 'z', 'hop', '-'])\n",
    "hopping_df.drop('-', axis=1, inplace=True)\n",
    "display(hopping_df)\n",
    "\n",
    "temperature = 0.05\n",
    "band_filling = 0.9\n",
    "Uinner = 4.     # 軌道内クーロン相互作用\n",
    "Uinter = 0.     # 軌道間クーロン相互作用\n",
    "Jhund = 0.      # フント結合\n",
    "Jpair = 0.      # ペアホッピング\n",
    "\n",
    "pm = parameter_manager(\n",
    "    Nqx, Nqy, Nqz, Nm, Norbit, Norbit_each_site, Nrvec, Nsite, temperature, band_filling, Uinner, Uinter, Jhund, Jpair\n",
    ")"
   ]
  },
  {
   "cell_type": "code",
   "execution_count": 4,
   "metadata": {},
   "outputs": [
    {
     "name": "stdout",
     "output_type": "stream",
     "text": [
      "chemical potential = -0.5174\n",
      "err=inf\n",
      "err=267.6\n",
      "err=27.45\n",
      "err=18.02\n",
      "err=97.16\n",
      "err=3.576\n",
      "err=1.869\n",
      "err=4.436\n",
      "err=9.816\n",
      "err=6.238\n",
      "err=4.264\n",
      "err=22.02\n",
      "err=2.708\n",
      "err=4.669\n",
      "err=12.66\n",
      "err=3.88\n",
      "err=1.782\n",
      "err=1.056\n",
      "err=0.7006\n",
      "err=0.495\n",
      "err=0.4021\n",
      "err=0.351\n",
      "err=0.3026\n",
      "err=0.2582\n",
      "err=0.2182\n",
      "err=0.1831\n",
      "err=0.1526\n",
      "err=0.1266\n",
      "err=0.1046\n",
      "err=0.08619\n",
      "err=0.07081\n",
      "err=0.05805\n",
      "err=0.0475\n",
      "err=0.03882\n",
      "err=0.03168\n",
      "err=0.02589\n",
      "err=0.02132\n",
      "err=0.01753\n",
      "err=0.01441\n",
      "err=0.01183\n",
      "err=0.009699\n",
      "err=0.007949\n",
      "err=0.006512\n",
      "err=0.005332\n",
      "err=0.004365\n",
      "err=0.003572\n",
      "err=0.002923\n",
      "err=0.002393\n",
      "err=0.001958\n",
      "err=0.001604\n",
      "err=0.001314\n",
      "err=0.001077\n",
      "chi0= 0.1446501955242917\n",
      "chi_S= 1.2400577706549123\n",
      "chi_C= 0.08485510319373057\n",
      "Sigma= 0.5011196841696874\n",
      "chemical potential = -0.59029\n",
      "G= 1.8174195454461293\n"
     ]
    }
   ],
   "source": [
    "ENERGY, ENERGY_DIAG, UNITARY = get_ENERGY(hopping_df, *pm.get_Energy())\n",
    "U_charge, U_spin = get_INTERACTION(*pm.get_INTERACTION())\n",
    "mask = mkmask(U_charge, U_spin)\n",
    "mu = calc_mu_non_interacting(ENERGY_DIAG, *pm.calc_mu_non_interacting())\n",
    "print('chemical potential = {:.4g}'.format(mu))\n",
    "CHI0, CHI_charge, CHI_spin, SIGMA, mu, G = \\\n",
    "    FLEX_pipeline(ENERGY, ENERGY_DIAG, U_charge, U_spin, mu, pm, mix_rate=0.2, mask=mask)\n",
    "print('chi0=', np.max(np.real(CHI0)))\n",
    "print('chi_S=', np.max(np.real(CHI_spin)))\n",
    "print('chi_C=', np.max(np.real(CHI_charge)))\n",
    "print('Sigma=', np.max(np.absolute(SIGMA)))\n",
    "print('chemical potential = {:.5g}'.format(mu))\n",
    "print('G=', np.max(np.absolute(G)))"
   ]
  },
  {
   "cell_type": "code",
   "execution_count": 5,
   "metadata": {},
   "outputs": [
    {
     "name": "stdout",
     "output_type": "stream",
     "text": [
      "lambda= 0.7312631367232529\n"
     ]
    },
    {
     "data": {
      "image/png": "[encoded data removed]",
      "text/plain": [
       "<Figure size 432x288 with 2 Axes>"
      ]
     },
     "metadata": {
      "needs_background": "light"
     },
     "output_type": "display_data"
    },
    {
     "name": "stdout",
     "output_type": "stream",
     "text": [
      "lambda= 0.2100977320104879\n"
     ]
    },
    {
     "data": {
      "image/png": "[encoded data removed]",
      "text/plain": [
       "<Figure size 432x288 with 2 Axes>"
      ]
     },
     "metadata": {
      "needs_background": "light"
     },
     "output_type": "display_data"
    },
    {
     "name": "stdout",
     "output_type": "stream",
     "text": [
      "lambda= 0.18620786114731064\n"
     ]
    },
    {
     "data": {
      "image/png": "[encoded data removed]",
      "text/plain": [
       "<Figure size 432x288 with 2 Axes>"
      ]
     },
     "metadata": {
      "needs_background": "light"
     },
     "output_type": "display_data"
    }
   ],
   "source": [
    "DELTA_init_gap = get_DELTA_band_init(*pm.get_DELTA_init(), gap_symmetry='random')\n",
    "DELTA_init = from_band_to_orbit(DELTA_init_gap, UNITARY)\n",
    "lambda_list, DELTA_list = \\\n",
    "    Eliashberg_pipeline(G, U_charge, U_spin, CHI_charge, CHI_spin, DELTA_init, pm, mask=mask, k=3)\n",
    "print('lambda=', lambda_list[0])\n",
    "sns.heatmap(np.sum(np.real(from_orbit_to_band(DELTA_list[0], UNITARY)), axis=0)[:,:,0,0,0])\n",
    "plt.show()\n",
    "print('lambda=', lambda_list[1])\n",
    "sns.heatmap(np.sum(np.real(from_orbit_to_band(DELTA_list[1], UNITARY)), axis=0)[:,:,0,0,0])\n",
    "plt.show()\n",
    "print('lambda=', lambda_list[2])\n",
    "sns.heatmap(np.sum(np.imag(from_orbit_to_band(DELTA_list[2], UNITARY)), axis=0)[:,:,0,0,0])\n",
    "plt.show()"
   ]
  },
  {
   "cell_type": "markdown",
   "metadata": {},
   "source": [
    "### 2次元2サイト2軌道  ( 2層系, U=6 )"
   ]
  },
  {
   "cell_type": "code",
   "execution_count": 6,
   "metadata": {},
   "outputs": [
    {
     "data": {
      "text/html": [
       "<div>\n",
       "<style scoped>\n",
       "    .dataframe tbody tr th:only-of-type {\n",
       "        vertical-align: middle;\n",
       "    }\n",
       "\n",
       "    .dataframe tbody tr th {\n",
       "        vertical-align: top;\n",
       "    }\n",
       "\n",
       "    .dataframe thead th {\n",
       "        text-align: right;\n",
       "    }\n",
       "</style>\n",
       "<table border=\"1\" class=\"dataframe\">\n",
       "  <thead>\n",
       "    <tr style=\"text-align: right;\">\n",
       "      <th></th>\n",
       "      <th>x</th>\n",
       "      <th>y</th>\n",
       "      <th>z</th>\n",
       "      <th>hop</th>\n",
       "    </tr>\n",
       "  </thead>\n",
       "  <tbody>\n",
       "    <tr>\n",
       "      <th>0</th>\n",
       "      <td>0.0</td>\n",
       "      <td>0.0</td>\n",
       "      <td>0.0</td>\n",
       "      <td>0.0</td>\n",
       "    </tr>\n",
       "    <tr>\n",
       "      <th>1</th>\n",
       "      <td>1.0</td>\n",
       "      <td>0.0</td>\n",
       "      <td>0.0</td>\n",
       "      <td>1.0</td>\n",
       "    </tr>\n",
       "    <tr>\n",
       "      <th>2</th>\n",
       "      <td>-1.0</td>\n",
       "      <td>0.0</td>\n",
       "      <td>0.0</td>\n",
       "      <td>1.0</td>\n",
       "    </tr>\n",
       "    <tr>\n",
       "      <th>3</th>\n",
       "      <td>0.0</td>\n",
       "      <td>1.0</td>\n",
       "      <td>0.0</td>\n",
       "      <td>1.0</td>\n",
       "    </tr>\n",
       "    <tr>\n",
       "      <th>4</th>\n",
       "      <td>0.0</td>\n",
       "      <td>-1.0</td>\n",
       "      <td>0.0</td>\n",
       "      <td>1.0</td>\n",
       "    </tr>\n",
       "    <tr>\n",
       "      <th>5</th>\n",
       "      <td>0.0</td>\n",
       "      <td>0.0</td>\n",
       "      <td>0.0</td>\n",
       "      <td>2.0</td>\n",
       "    </tr>\n",
       "    <tr>\n",
       "      <th>6</th>\n",
       "      <td>1.0</td>\n",
       "      <td>0.0</td>\n",
       "      <td>0.0</td>\n",
       "      <td>0.0</td>\n",
       "    </tr>\n",
       "    <tr>\n",
       "      <th>7</th>\n",
       "      <td>-1.0</td>\n",
       "      <td>0.0</td>\n",
       "      <td>0.0</td>\n",
       "      <td>0.0</td>\n",
       "    </tr>\n",
       "    <tr>\n",
       "      <th>8</th>\n",
       "      <td>0.0</td>\n",
       "      <td>1.0</td>\n",
       "      <td>0.0</td>\n",
       "      <td>0.0</td>\n",
       "    </tr>\n",
       "    <tr>\n",
       "      <th>9</th>\n",
       "      <td>0.0</td>\n",
       "      <td>-1.0</td>\n",
       "      <td>0.0</td>\n",
       "      <td>0.0</td>\n",
       "    </tr>\n",
       "    <tr>\n",
       "      <th>10</th>\n",
       "      <td>0.0</td>\n",
       "      <td>0.0</td>\n",
       "      <td>0.0</td>\n",
       "      <td>2.0</td>\n",
       "    </tr>\n",
       "    <tr>\n",
       "      <th>11</th>\n",
       "      <td>1.0</td>\n",
       "      <td>0.0</td>\n",
       "      <td>0.0</td>\n",
       "      <td>0.0</td>\n",
       "    </tr>\n",
       "    <tr>\n",
       "      <th>12</th>\n",
       "      <td>-1.0</td>\n",
       "      <td>0.0</td>\n",
       "      <td>0.0</td>\n",
       "      <td>0.0</td>\n",
       "    </tr>\n",
       "    <tr>\n",
       "      <th>13</th>\n",
       "      <td>0.0</td>\n",
       "      <td>1.0</td>\n",
       "      <td>0.0</td>\n",
       "      <td>0.0</td>\n",
       "    </tr>\n",
       "    <tr>\n",
       "      <th>14</th>\n",
       "      <td>0.0</td>\n",
       "      <td>-1.0</td>\n",
       "      <td>0.0</td>\n",
       "      <td>0.0</td>\n",
       "    </tr>\n",
       "    <tr>\n",
       "      <th>15</th>\n",
       "      <td>0.0</td>\n",
       "      <td>0.0</td>\n",
       "      <td>0.0</td>\n",
       "      <td>0.0</td>\n",
       "    </tr>\n",
       "    <tr>\n",
       "      <th>16</th>\n",
       "      <td>1.0</td>\n",
       "      <td>0.0</td>\n",
       "      <td>0.0</td>\n",
       "      <td>1.0</td>\n",
       "    </tr>\n",
       "    <tr>\n",
       "      <th>17</th>\n",
       "      <td>-1.0</td>\n",
       "      <td>0.0</td>\n",
       "      <td>0.0</td>\n",
       "      <td>1.0</td>\n",
       "    </tr>\n",
       "    <tr>\n",
       "      <th>18</th>\n",
       "      <td>0.0</td>\n",
       "      <td>1.0</td>\n",
       "      <td>0.0</td>\n",
       "      <td>1.0</td>\n",
       "    </tr>\n",
       "    <tr>\n",
       "      <th>19</th>\n",
       "      <td>0.0</td>\n",
       "      <td>-1.0</td>\n",
       "      <td>0.0</td>\n",
       "      <td>1.0</td>\n",
       "    </tr>\n",
       "  </tbody>\n",
       "</table>\n",
       "</div>"
      ],
      "text/plain": [
       "      x    y    z  hop\n",
       "0   0.0  0.0  0.0  0.0\n",
       "1   1.0  0.0  0.0  1.0\n",
       "2  -1.0  0.0  0.0  1.0\n",
       "3   0.0  1.0  0.0  1.0\n",
       "4   0.0 -1.0  0.0  1.0\n",
       "5   0.0  0.0  0.0  2.0\n",
       "6   1.0  0.0  0.0  0.0\n",
       "7  -1.0  0.0  0.0  0.0\n",
       "8   0.0  1.0  0.0  0.0\n",
       "9   0.0 -1.0  0.0  0.0\n",
       "10  0.0  0.0  0.0  2.0\n",
       "11  1.0  0.0  0.0  0.0\n",
       "12 -1.0  0.0  0.0  0.0\n",
       "13  0.0  1.0  0.0  0.0\n",
       "14  0.0 -1.0  0.0  0.0\n",
       "15  0.0  0.0  0.0  0.0\n",
       "16  1.0  0.0  0.0  1.0\n",
       "17 -1.0  0.0  0.0  1.0\n",
       "18  0.0  1.0  0.0  1.0\n",
       "19  0.0 -1.0  0.0  1.0"
      ]
     },
     "metadata": {},
     "output_type": "display_data"
    }
   ],
   "source": [
    "Nqx = 16\n",
    "Nqy = 16\n",
    "Nqz = 1\n",
    "Nm = 256\n",
    "Nrvec = 5\n",
    "\n",
    "Nsite = 2\n",
    "Norbit_each_site = (1,1)\n",
    "Norbit = 2\n",
    "\n",
    "hopping_info_file = 'hop.dat'\n",
    "hopping_df = pd.read_csv(hopping_info_file, sep='\\s+', names=['x', 'y', 'z', 'hop', '-'])\n",
    "hopping_df.drop('-', axis=1, inplace=True)\n",
    "display(hopping_df)\n",
    "\n",
    "temperature = 0.1\n",
    "band_filling = 0.9\n",
    "Uinner = 6.     # 軌道内クーロン相互作用\n",
    "Uinter = 0.     # 軌道間クーロン相互作用\n",
    "Jhund = 0.      # フント結合\n",
    "Jpair = 0.      # ペアホッピング\n",
    "\n",
    "pm = parameter_manager(\n",
    "    Nqx, Nqy, Nqz, Nm, Norbit, Norbit_each_site, Nrvec, Nsite, temperature, band_filling, Uinner, Uinter, Jhund, Jpair\n",
    ")"
   ]
  },
  {
   "cell_type": "code",
   "execution_count": 7,
   "metadata": {},
   "outputs": [
    {
     "name": "stdout",
     "output_type": "stream",
     "text": [
      "chemical potential = -0.4772\n",
      "err=inf\n",
      "err=1.305e+04\n",
      "err=23.78\n",
      "err=12.75\n",
      "err=703.5\n",
      "err=10.78\n",
      "err=5.734\n",
      "err=3.612\n",
      "err=4.425\n",
      "err=5.665\n",
      "err=5.973\n",
      "err=6.527\n",
      "err=6.957\n",
      "err=13.57\n",
      "err=9.555\n",
      "err=4.52\n",
      "err=3.48\n",
      "err=6.955\n",
      "err=30.27\n",
      "err=2.686\n",
      "err=2.746\n",
      "err=2.484\n",
      "err=5.469\n",
      "err=1.653\n",
      "err=1.475\n",
      "err=1.169\n",
      "err=65.14\n",
      "err=6.113\n",
      "err=3.837\n",
      "err=3.501\n",
      "err=4.054\n",
      "err=4.462\n",
      "err=4.144\n",
      "err=3.239\n",
      "err=2.378\n",
      "err=1.743\n",
      "err=1.395\n",
      "err=1.363\n",
      "err=1.314\n",
      "err=1.247\n",
      "err=2.506\n",
      "err=1.186\n",
      "err=4.199\n",
      "err=15.42\n",
      "err=19.52\n",
      "err=47.08\n",
      "err=26.35\n",
      "err=8.761\n",
      "err=20.06\n",
      "err=13.51\n",
      "err=17.23\n",
      "err=10.5\n",
      "err=9.03\n",
      "err=8.419\n",
      "err=5.02\n",
      "err=3.164\n",
      "err=2.335\n",
      "err=1.782\n",
      "err=1.399\n",
      "err=1.125\n",
      "err=0.9223\n",
      "err=0.7797\n",
      "err=0.6723\n",
      "err=0.581\n",
      "err=0.5036\n",
      "err=0.4405\n",
      "err=0.3893\n",
      "err=0.3448\n",
      "err=0.3059\n",
      "err=0.272\n",
      "err=0.2423\n",
      "err=0.2162\n",
      "err=0.1932\n",
      "err=0.1729\n",
      "err=0.155\n",
      "err=0.1391\n",
      "err=0.125\n",
      "err=0.1124\n",
      "err=0.1013\n",
      "err=0.09127\n",
      "err=0.08235\n",
      "err=0.07436\n",
      "err=0.0672\n",
      "err=0.06078\n",
      "err=0.05501\n",
      "err=0.04982\n",
      "err=0.04516\n",
      "err=0.04096\n",
      "err=0.03814\n",
      "err=0.0358\n",
      "err=0.0336\n",
      "err=0.03154\n",
      "err=0.02961\n",
      "err=0.0278\n",
      "err=0.02611\n",
      "err=0.02452\n",
      "err=0.02304\n",
      "err=0.02165\n",
      "err=0.02035\n",
      "err=0.01913\n",
      "err=0.01799\n",
      "err=0.01693\n",
      "err=0.01593\n",
      "err=0.015\n",
      "err=0.01413\n",
      "err=0.01331\n",
      "err=0.01255\n",
      "err=0.01183\n",
      "err=0.01116\n",
      "err=0.01054\n",
      "err=0.009948\n",
      "err=0.009397\n",
      "err=0.008881\n",
      "err=0.008396\n",
      "err=0.007941\n",
      "err=0.007514\n",
      "err=0.007113\n",
      "err=0.006737\n",
      "err=0.006383\n",
      "err=0.006049\n",
      "err=0.005736\n",
      "err=0.005441\n",
      "err=0.005163\n",
      "err=0.004902\n",
      "err=0.004655\n",
      "err=0.004422\n",
      "err=0.004203\n",
      "err=0.003995\n",
      "err=0.0038\n",
      "err=0.003615\n",
      "err=0.00344\n",
      "err=0.003275\n",
      "err=0.003118\n",
      "err=0.00297\n",
      "err=0.00283\n",
      "err=0.002697\n",
      "err=0.002571\n",
      "err=0.002451\n",
      "err=0.002338\n",
      "err=0.002231\n",
      "err=0.002128\n",
      "err=0.002032\n",
      "err=0.001939\n",
      "err=0.001852\n",
      "err=0.001769\n",
      "err=0.001689\n",
      "err=0.001614\n",
      "err=0.001542\n",
      "err=0.001474\n",
      "err=0.001409\n",
      "err=0.001347\n",
      "err=0.001288\n",
      "err=0.001232\n",
      "err=0.001178\n",
      "err=0.001127\n",
      "err=0.001078\n",
      "err=0.001032\n",
      "chi0= 0.10369158058052415\n",
      "chi_S= 1.1530279064871005\n",
      "chi_C= 0.06089059402333649\n",
      "Sigma= 1.1728589209234703\n",
      "chemical potential = -0.82028\n",
      "G= 0.6968546072771399\n"
     ]
    }
   ],
   "source": [
    "ENERGY, ENERGY_DIAG, UNITARY = get_ENERGY(hopping_df, *pm.get_Energy())\n",
    "U_charge, U_spin = get_INTERACTION(*pm.get_INTERACTION())\n",
    "mask = mkmask(U_charge, U_spin)\n",
    "mu = calc_mu_non_interacting(ENERGY_DIAG, *pm.calc_mu_non_interacting())\n",
    "print('chemical potential = {:.4g}'.format(mu))\n",
    "CHI0, CHI_charge, CHI_spin, SIGMA, mu, G = \\\n",
    "    FLEX_pipeline(ENERGY, ENERGY_DIAG, U_charge, U_spin, mu, pm, mix_rate=0.1, mask=mask)\n",
    "print('chi0=', np.max(np.real(CHI0)))\n",
    "print('chi_S=', np.max(np.real(CHI_spin)))\n",
    "print('chi_C=', np.max(np.real(CHI_charge)))\n",
    "print('Sigma=', np.max(np.absolute(SIGMA)))\n",
    "print('chemical potential = {:.5g}'.format(mu))\n",
    "print('G=', np.max(np.absolute(G)))"
   ]
  },
  {
   "cell_type": "code",
   "execution_count": 8,
   "metadata": {},
   "outputs": [
    {
     "name": "stdout",
     "output_type": "stream",
     "text": [
      "lambda= 0.9330413160109651\n"
     ]
    },
    {
     "data": {
      "image/png": "[encoded data removed]",
      "text/plain": [
       "<Figure size 432x288 with 2 Axes>"
      ]
     },
     "metadata": {
      "needs_background": "light"
     },
     "output_type": "display_data"
    },
    {
     "name": "stdout",
     "output_type": "stream",
     "text": [
      "lambda= 0.2210816312155107\n"
     ]
    },
    {
     "data": {
      "image/png": "[encoded data removed]",
      "text/plain": [
       "<Figure size 432x288 with 2 Axes>"
      ]
     },
     "metadata": {
      "needs_background": "light"
     },
     "output_type": "display_data"
    },
    {
     "name": "stdout",
     "output_type": "stream",
     "text": [
      "lambda= 0.41719240643271976\n"
     ]
    },
    {
     "data": {
      "image/png": "[encoded data removed]",
      "text/plain": [
       "<Figure size 432x288 with 2 Axes>"
      ]
     },
     "metadata": {
      "needs_background": "light"
     },
     "output_type": "display_data"
    },
    {
     "name": "stdout",
     "output_type": "stream",
     "text": [
      "lambda= 0.13995596133195212\n"
     ]
    },
    {
     "data": {
      "image/png": "[encoded data removed]",
      "text/plain": [
       "<Figure size 432x288 with 2 Axes>"
      ]
     },
     "metadata": {
      "needs_background": "light"
     },
     "output_type": "display_data"
    },
    {
     "name": "stdout",
     "output_type": "stream",
     "text": [
      "lambda= 0.12488265614622686\n"
     ]
    },
    {
     "data": {
      "image/png": "[encoded data removed]",
      "text/plain": [
       "<Figure size 432x288 with 2 Axes>"
      ]
     },
     "metadata": {
      "needs_background": "light"
     },
     "output_type": "display_data"
    },
    {
     "name": "stdout",
     "output_type": "stream",
     "text": [
      "lambda= 0.11416630731527146\n"
     ]
    },
    {
     "data": {
      "image/png": "[encoded data removed]",
      "text/plain": [
       "<Figure size 432x288 with 2 Axes>"
      ]
     },
     "metadata": {
      "needs_background": "light"
     },
     "output_type": "display_data"
    }
   ],
   "source": [
    "DELTA_init_gap = get_DELTA_band_init(*pm.get_DELTA_init(), gap_symmetry='random')\n",
    "DELTA_init = from_band_to_orbit(DELTA_init_gap, UNITARY)\n",
    "lambda_list, DELTA_list = \\\n",
    "    Eliashberg_pipeline(G, U_charge, U_spin, CHI_charge, CHI_spin, DELTA_init, pm, mask=mask, k=6, symmetrize='auto')\n",
    "for i in range(6):\n",
    "    print('lambda=', lambda_list[i])\n",
    "    sns.heatmap(np.sum(np.real(from_orbit_to_band(DELTA_list[i], UNITARY)), axis=0)[:,:,0,0,0])\n",
    "    plt.show()"
   ]
  },
  {
   "cell_type": "code",
   "execution_count": 9,
   "metadata": {},
   "outputs": [
    {
     "name": "stdout",
     "output_type": "stream",
     "text": [
      "lambda= 0.12488275636179919\n"
     ]
    },
    {
     "data": {
      "image/png": "[encoded data removed]",
      "text/plain": [
       "<Figure size 432x288 with 2 Axes>"
      ]
     },
     "metadata": {
      "needs_background": "light"
     },
     "output_type": "display_data"
    }
   ],
   "source": [
    "DELTA_init_gap = get_DELTA_band_init(*pm.get_DELTA_init(), gap_symmetry='random')\n",
    "DELTA_init = from_band_to_orbit(DELTA_init_gap, UNITARY)\n",
    "lambda_list, DELTA_list = \\\n",
    "    Eliashberg_pipeline(G, U_charge, U_spin, CHI_charge, CHI_spin, DELTA_init, pm, mask=mask, k=1, symmetrize='dxy')\n",
    "print('lambda=', lambda_list[0])\n",
    "sns.heatmap(np.sum(np.real(from_orbit_to_band(DELTA_list[0], UNITARY)), axis=0)[:,:,0,0,0])\n",
    "plt.show()"
   ]
  },
  {
   "cell_type": "code",
   "execution_count": 10,
   "metadata": {},
   "outputs": [
    {
     "name": "stdout",
     "output_type": "stream",
     "text": [
      "lambda= 0.1399562024448451\n"
     ]
    },
    {
     "data": {
      "image/png": "[encoded data removed]",
      "text/plain": [
       "<Figure size 432x288 with 2 Axes>"
      ]
     },
     "metadata": {
      "needs_background": "light"
     },
     "output_type": "display_data"
    }
   ],
   "source": [
    "DELTA_init_gap = get_DELTA_band_init(*pm.get_DELTA_init(), gap_symmetry='random')\n",
    "DELTA_init = from_band_to_orbit(DELTA_init_gap, UNITARY)\n",
    "lambda_list, DELTA_list = \\\n",
    "    Eliashberg_pipeline(G, U_charge, U_spin, CHI_charge, CHI_spin, DELTA_init, pm, mask=mask, k=1, symmetrize='dx2-y2')\n",
    "print('lambda=', lambda_list[0])\n",
    "sns.heatmap(np.sum(np.real(from_orbit_to_band(DELTA_list[0], UNITARY)), axis=0)[:,:,0,0,0])\n",
    "plt.show()"
   ]
  },
  {
   "attachments": {},
   "cell_type": "markdown",
   "metadata": {},
   "source": [
    "## Pade 近似"
   ]
  },
  {
   "cell_type": "code",
   "execution_count": 11,
   "metadata": {},
   "outputs": [
    {
     "name": "stderr",
     "output_type": "stream",
     "text": [
      "100%|██████████| 49/49 [00:00<00:00, 60.21it/s]\n"
     ]
    },
    {
     "data": {
      "image/png": "[encoded data removed]",
      "text/plain": [
       "<Figure size 432x288 with 1 Axes>"
      ]
     },
     "metadata": {
      "needs_background": "light"
     },
     "output_type": "display_data"
    }
   ],
   "source": [
    "idelta = 0.05j\n",
    "Neps = 1001\n",
    "epsilon = np.linspace(-13,13,Neps)\n",
    "\n",
    "G_band = from_orbit_to_band(G, UNITARY)\n",
    "G_R = pade_approx(G_band, pm.matsubara_half, epsilon+idelta, Nm_cutoff=50)\n",
    "A_spec = -np.imag(G_R)\n",
    "\n",
    "DOS0 = np.sum(A_spec, axis=(1,2,3))[:,0,0]\n",
    "DOS1 = np.sum(A_spec, axis=(1,2,3))[:,1,1]\n",
    "\n",
    "plt.plot(np.real(epsilon), DOS0)\n",
    "plt.plot(np.real(epsilon), DOS1)\n",
    "plt.show()"
   ]
  },
  {
   "cell_type": "code",
   "execution_count": null,
   "metadata": {},
   "outputs": [],
   "source": []
  }
 ],
 "metadata": {
  "interpreter": {
   "hash": "590b91e4b9eb59ee8553e47789ab7b6106a26a4abe1ef7193a8ece9c0232e5ab"
  },
  "kernelspec": {
   "display_name": "Python 3.9.7 64-bit ('localization': pyenv)",
   "language": "python",
   "name": "python3"
  },
  "language_info": {
   "codemirror_mode": {
    "name": "ipython",
    "version": 3
   },
   "file_extension": ".py",
   "mimetype": "text/x-python",
   "name": "python",
   "nbconvert_exporter": "python",
   "pygments_lexer": "ipython3",
   "version": "3.9.7"
  },
  "orig_nbformat": 4
 },
 "nbformat": 4,
 "nbformat_minor": 2
}
